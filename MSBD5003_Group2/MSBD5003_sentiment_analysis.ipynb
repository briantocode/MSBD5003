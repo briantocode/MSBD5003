{
  "nbformat": 4,
  "nbformat_minor": 0,
  "metadata": {
    "colab": {
      "name": "MSBD5003_sentiment_analysis.ipynb",
      "version": "0.3.2",
      "provenance": [],
      "collapsed_sections": []
    },
    "kernelspec": {
      "name": "python3",
      "display_name": "Python 3"
    }
  },
  "cells": [
    {
      "cell_type": "code",
      "metadata": {
        "id": "97EDe0NHNC_R",
        "colab_type": "code",
        "outputId": "004ee491-11df-4749-a67e-3c42bf6baf46",
        "colab": {
          "base_uri": "https://localhost:8080/",
          "height": 374
        }
      },
      "source": [
        "!apt-get update\n",
        "!apt-get install openjdk-8-jdk-headless -qq > /dev/null"
      ],
      "execution_count": 0,
      "outputs": [
        {
          "output_type": "stream",
          "text": [
            "\r0% [Working]\r            \rIgn:1 https://developer.download.nvidia.com/compute/cuda/repos/ubuntu1804/x86_64  InRelease\n",
            "\r0% [Connecting to archive.ubuntu.com (91.189.88.152)] [Connecting to security.u\r                                                                               \rGet:2 https://cloud.r-project.org/bin/linux/ubuntu bionic-cran35/ InRelease [3,609 B]\n",
            "\r0% [Connecting to archive.ubuntu.com (91.189.88.152)] [Connecting to security.u\r0% [Connecting to archive.ubuntu.com (91.189.88.152)] [Connecting to security.u\r                                                                               \rIgn:3 https://developer.download.nvidia.com/compute/machine-learning/repos/ubuntu1804/x86_64  InRelease\n",
            "\r0% [Waiting for headers] [Connecting to security.ubuntu.com (91.189.88.152)] [W\r0% [2 InRelease gpgv 3,609 B] [Waiting for headers] [Connecting to security.ubu\r                                                                               \rGet:4 https://developer.download.nvidia.com/compute/cuda/repos/ubuntu1804/x86_64  Release [564 B]\n",
            "\r0% [2 InRelease gpgv 3,609 B] [Waiting for headers] [Connecting to security.ubu\r0% [2 InRelease gpgv 3,609 B] [Waiting for headers] [Connecting to security.ubu\r                                                                               \rHit:5 https://developer.download.nvidia.com/compute/machine-learning/repos/ubuntu1804/x86_64  Release\n",
            "\r0% [2 InRelease gpgv 3,609 B] [Waiting for headers] [Connecting to security.ubu\r                                                                               \rGet:6 https://developer.download.nvidia.com/compute/cuda/repos/ubuntu1804/x86_64  Release.gpg [801 B]\n",
            "\r0% [2 InRelease gpgv 3,609 B] [Waiting for headers] [Connecting to security.ubu\r0% [2 InRelease gpgv 3,609 B] [Waiting for headers] [Connecting to security.ubu\r                                                                               \rHit:7 http://archive.ubuntu.com/ubuntu bionic InRelease\n",
            "\r0% [2 InRelease gpgv 3,609 B] [Waiting for headers] [Connecting to security.ubu\r                                                                               \rHit:8 http://ppa.launchpad.net/graphics-drivers/ppa/ubuntu bionic InRelease\n",
            "\r0% [2 InRelease gpgv 3,609 B] [Waiting for headers] [Connecting to security.ubu\r                                                                               \rGet:9 http://archive.ubuntu.com/ubuntu bionic-updates InRelease [88.7 kB]\n",
            "Get:10 http://security.ubuntu.com/ubuntu bionic-security InRelease [88.7 kB]\n",
            "Get:11 http://ppa.launchpad.net/marutter/c2d4u3.5/ubuntu bionic InRelease [15.4 kB]\n",
            "Get:13 https://developer.download.nvidia.com/compute/cuda/repos/ubuntu1804/x86_64  Packages [85.5 kB]\n",
            "Hit:14 http://archive.ubuntu.com/ubuntu bionic-backports InRelease\n",
            "Get:15 http://ppa.launchpad.net/marutter/c2d4u3.5/ubuntu bionic/main Sources [1,643 kB]\n",
            "Get:16 http://archive.ubuntu.com/ubuntu bionic-updates/main amd64 Packages [803 kB]\n",
            "Get:17 http://security.ubuntu.com/ubuntu bionic-security/universe amd64 Packages [310 kB]\n",
            "Get:18 http://archive.ubuntu.com/ubuntu bionic-updates/universe amd64 Packages [1,199 kB]\n",
            "Get:19 http://security.ubuntu.com/ubuntu bionic-security/main amd64 Packages [451 kB]\n",
            "Get:20 http://ppa.launchpad.net/marutter/c2d4u3.5/ubuntu bionic/main amd64 Packages [788 kB]\n",
            "Fetched 5,479 kB in 4s (1,458 kB/s)\n",
            "Reading package lists... Done\n"
          ],
          "name": "stdout"
        }
      ]
    },
    {
      "cell_type": "code",
      "metadata": {
        "id": "EZQyNZZsNGGD",
        "colab_type": "code",
        "outputId": "d5d298e7-2683-4d34-f9d9-20ed6a0084d9",
        "colab": {
          "base_uri": "https://localhost:8080/",
          "height": 385
        }
      },
      "source": [
        "## 01 - Install Spark Packages\n",
        "\n",
        "!apt-get install openjdk-8-jdk-headless -qq > /dev/null\n",
        "!wget -q http://www-us.apache.org/dist/spark/spark-2.4.0/spark-2.4.0-bin-hadoop2.7.tgz\n",
        "!tar xf spark-2.4.0-bin-hadoop2.7.tgz\n",
        "!pip install -q findspark\n",
        "\n",
        "import os\n",
        "os.environ[\"JAVA_HOME\"] = \"/usr/lib/jvm/java-8-openjdk-amd64\"\n",
        "os.environ[\"SPARK_HOME\"] = \"/content/spark-2.4.0-bin-hadoop2.7\"\n",
        "\n",
        "import findspark\n",
        "findspark.init()\n",
        "\n",
        "## 02 - Initialize All Sparks Library\n",
        "\n",
        "from pyspark.sql import *\n",
        "from pyspark import *\n",
        "\n",
        "def init_spark(app_name, master_config):\n",
        "  \"\"\"\n",
        "  :params app_name: Name of the app\n",
        "  :params master_config: eg. local[4]\n",
        "  :returns SparkContext, SQLContext, SparkSession:\n",
        "  \"\"\"\n",
        "  conf = (SparkConf().setAppName(app_name).setMaster(master_config))\n",
        "  sc = SparkContext(conf=conf)\n",
        "  sc.setLogLevel(\"ERROR\")\n",
        "  sql_ctx = SQLContext(sc)\n",
        "  spark = SparkSession(sc)\n",
        "  return (sc, sql_ctx, spark)\n",
        "\n",
        "sc, sql_ctx, spark = init_spark(\"MSBD5003_sentiment_analysis\", \"local[4]\")\n",
        "\n",
        "print (\"Done, Spark Installed !!!\")"
      ],
      "execution_count": 0,
      "outputs": [
        {
          "output_type": "stream",
          "text": [
            "tar: spark-2.4.0-bin-hadoop2.7.tgz: Cannot open: No such file or directory\n",
            "tar: Error is not recoverable: exiting now\n"
          ],
          "name": "stdout"
        },
        {
          "output_type": "error",
          "ename": "IndexError",
          "evalue": "ignored",
          "traceback": [
            "\u001b[0;31m---------------------------------------------------------------------------\u001b[0m",
            "\u001b[0;31mIndexError\u001b[0m                                Traceback (most recent call last)",
            "\u001b[0;32m<ipython-input-2-1be4a685d4a8>\u001b[0m in \u001b[0;36m<module>\u001b[0;34m()\u001b[0m\n\u001b[1;32m     10\u001b[0m \u001b[0;34m\u001b[0m\u001b[0m\n\u001b[1;32m     11\u001b[0m \u001b[0;32mimport\u001b[0m \u001b[0mfindspark\u001b[0m\u001b[0;34m\u001b[0m\u001b[0;34m\u001b[0m\u001b[0m\n\u001b[0;32m---> 12\u001b[0;31m \u001b[0mfindspark\u001b[0m\u001b[0;34m.\u001b[0m\u001b[0minit\u001b[0m\u001b[0;34m(\u001b[0m\u001b[0;34m)\u001b[0m\u001b[0;34m\u001b[0m\u001b[0;34m\u001b[0m\u001b[0m\n\u001b[0m\u001b[1;32m     13\u001b[0m \u001b[0;34m\u001b[0m\u001b[0m\n\u001b[1;32m     14\u001b[0m \u001b[0;31m## 02 - Initialize All Sparks Library\u001b[0m\u001b[0;34m\u001b[0m\u001b[0;34m\u001b[0m\u001b[0;34m\u001b[0m\u001b[0m\n",
            "\u001b[0;32m/usr/local/lib/python3.6/dist-packages/findspark.py\u001b[0m in \u001b[0;36minit\u001b[0;34m(spark_home, python_path, edit_rc, edit_profile)\u001b[0m\n\u001b[1;32m    133\u001b[0m     \u001b[0;31m# add pyspark to sys.path\u001b[0m\u001b[0;34m\u001b[0m\u001b[0;34m\u001b[0m\u001b[0;34m\u001b[0m\u001b[0m\n\u001b[1;32m    134\u001b[0m     \u001b[0mspark_python\u001b[0m \u001b[0;34m=\u001b[0m \u001b[0mos\u001b[0m\u001b[0;34m.\u001b[0m\u001b[0mpath\u001b[0m\u001b[0;34m.\u001b[0m\u001b[0mjoin\u001b[0m\u001b[0;34m(\u001b[0m\u001b[0mspark_home\u001b[0m\u001b[0;34m,\u001b[0m \u001b[0;34m'python'\u001b[0m\u001b[0;34m)\u001b[0m\u001b[0;34m\u001b[0m\u001b[0;34m\u001b[0m\u001b[0m\n\u001b[0;32m--> 135\u001b[0;31m     \u001b[0mpy4j\u001b[0m \u001b[0;34m=\u001b[0m \u001b[0mglob\u001b[0m\u001b[0;34m(\u001b[0m\u001b[0mos\u001b[0m\u001b[0;34m.\u001b[0m\u001b[0mpath\u001b[0m\u001b[0;34m.\u001b[0m\u001b[0mjoin\u001b[0m\u001b[0;34m(\u001b[0m\u001b[0mspark_python\u001b[0m\u001b[0;34m,\u001b[0m \u001b[0;34m'lib'\u001b[0m\u001b[0;34m,\u001b[0m \u001b[0;34m'py4j-*.zip'\u001b[0m\u001b[0;34m)\u001b[0m\u001b[0;34m)\u001b[0m\u001b[0;34m[\u001b[0m\u001b[0;36m0\u001b[0m\u001b[0;34m]\u001b[0m\u001b[0;34m\u001b[0m\u001b[0;34m\u001b[0m\u001b[0m\n\u001b[0m\u001b[1;32m    136\u001b[0m     \u001b[0msys\u001b[0m\u001b[0;34m.\u001b[0m\u001b[0mpath\u001b[0m\u001b[0;34m[\u001b[0m\u001b[0;34m:\u001b[0m\u001b[0;36m0\u001b[0m\u001b[0;34m]\u001b[0m \u001b[0;34m=\u001b[0m \u001b[0;34m[\u001b[0m\u001b[0mspark_python\u001b[0m\u001b[0;34m,\u001b[0m \u001b[0mpy4j\u001b[0m\u001b[0;34m]\u001b[0m\u001b[0;34m\u001b[0m\u001b[0;34m\u001b[0m\u001b[0m\n\u001b[1;32m    137\u001b[0m \u001b[0;34m\u001b[0m\u001b[0m\n",
            "\u001b[0;31mIndexError\u001b[0m: list index out of range"
          ]
        }
      ]
    },
    {
      "cell_type": "code",
      "metadata": {
        "id": "SaagA-YdNYEf",
        "colab_type": "code",
        "outputId": "d9b5f803-b18e-4891-a29b-2fb4d6647a75",
        "colab": {
          "base_uri": "https://localhost:8080/",
          "height": 34
        }
      },
      "source": [
        "import sys\n",
        "sys.version"
      ],
      "execution_count": 0,
      "outputs": [
        {
          "output_type": "execute_result",
          "data": {
            "text/plain": [
              "'3.6.7 (default, Oct 22 2018, 11:32:17) \\n[GCC 8.2.0]'"
            ]
          },
          "metadata": {
            "tags": []
          },
          "execution_count": 3
        }
      ]
    },
    {
      "cell_type": "code",
      "metadata": {
        "id": "N8kaqqkhN3bm",
        "colab_type": "code",
        "outputId": "02a323f8-bfe6-4953-c88d-bb25e1815f61",
        "colab": {
          "base_uri": "https://localhost:8080/",
          "height": 377
        }
      },
      "source": [
        "!wget https://www.dropbox.com/s/ojbjnd3r0zx22g1/renttherunway_final_data.json?dl=0"
      ],
      "execution_count": 0,
      "outputs": [
        {
          "output_type": "stream",
          "text": [
            "--2019-04-03 07:45:39--  https://www.dropbox.com/s/ojbjnd3r0zx22g1/renttherunway_final_data.json?dl=0\n",
            "Resolving www.dropbox.com (www.dropbox.com)... 162.125.9.1, 2620:100:6031:1::a27d:5101\n",
            "Connecting to www.dropbox.com (www.dropbox.com)|162.125.9.1|:443... connected.\n",
            "HTTP request sent, awaiting response... 301 Moved Permanently\n",
            "Location: /s/raw/ojbjnd3r0zx22g1/renttherunway_final_data.json [following]\n",
            "--2019-04-03 07:45:39--  https://www.dropbox.com/s/raw/ojbjnd3r0zx22g1/renttherunway_final_data.json\n",
            "Reusing existing connection to www.dropbox.com:443.\n",
            "HTTP request sent, awaiting response... 302 Found\n",
            "Location: https://uc56a27a60257d74a704933a92d7.dl.dropboxusercontent.com/cd/0/inline/AeSLnb7GPjXxTm1MznBfQ3wMEcHP1VQWXRFUHm8dujkGQdETImXhwAVOR2llt03-uUPHXL1aHPrnuwL8vyotDxQU9489Zam-n5EAUfjv5TpAE5cSqOEnryhwQ1KGQpG07so/file# [following]\n",
            "--2019-04-03 07:45:39--  https://uc56a27a60257d74a704933a92d7.dl.dropboxusercontent.com/cd/0/inline/AeSLnb7GPjXxTm1MznBfQ3wMEcHP1VQWXRFUHm8dujkGQdETImXhwAVOR2llt03-uUPHXL1aHPrnuwL8vyotDxQU9489Zam-n5EAUfjv5TpAE5cSqOEnryhwQ1KGQpG07so/file\n",
            "Resolving uc56a27a60257d74a704933a92d7.dl.dropboxusercontent.com (uc56a27a60257d74a704933a92d7.dl.dropboxusercontent.com)... 162.125.9.6, 2620:100:601b:6::a27d:806\n",
            "Connecting to uc56a27a60257d74a704933a92d7.dl.dropboxusercontent.com (uc56a27a60257d74a704933a92d7.dl.dropboxusercontent.com)|162.125.9.6|:443... connected.\n",
            "HTTP request sent, awaiting response... 200 OK\n",
            "Length: 123251881 (118M) [text/plain]\n",
            "Saving to: ‘renttherunway_final_data.json?dl=0’\n",
            "\n",
            "renttherunway_final 100%[===================>] 117.54M  50.5MB/s    in 2.3s    \n",
            "\n",
            "2019-04-03 07:45:42 (50.5 MB/s) - ‘renttherunway_final_data.json?dl=0’ saved [123251881/123251881]\n",
            "\n"
          ],
          "name": "stdout"
        }
      ]
    },
    {
      "cell_type": "code",
      "metadata": {
        "id": "YZT1GyDfXn_i",
        "colab_type": "code",
        "colab": {}
      },
      "source": [
        "from pyspark.sql.types import StructField, StringType, IntegerType, StructType, DateType"
      ],
      "execution_count": 0,
      "outputs": []
    },
    {
      "cell_type": "code",
      "metadata": {
        "id": "SLMop7E3YCTM",
        "colab_type": "code",
        "colab": {}
      },
      "source": [
        "data_schema = [StructField('age', IntegerType(), True), \\\n",
        "               StructField('body type', StringType(), True), \\\n",
        "               StructField('bust size', StringType(), True), \\\n",
        "               StructField('category', StringType(), True), \\\n",
        "               StructField('fit', StringType(), True), \\\n",
        "               StructField('height', StringType(), True), \\\n",
        "               StructField('item_id', StringType(), True), \\\n",
        "               StructField('rating', IntegerType(), True), \\\n",
        "               StructField('rented for', StringType(), True), \\\n",
        "               StructField('review_date', DateType(), True), \\\n",
        "               StructField('review_summary', StringType(), True), \\\n",
        "               StructField('review_text', StringType(), True), \\\n",
        "               StructField('size', IntegerType(), True), \\\n",
        "               StructField('user_id', IntegerType(), True), \\\n",
        "               StructField('weight', StringType(), True)]"
      ],
      "execution_count": 0,
      "outputs": []
    },
    {
      "cell_type": "code",
      "metadata": {
        "id": "h-xgHPopZsDC",
        "colab_type": "code",
        "colab": {}
      },
      "source": [
        "final_struc = StructType(fields = data_schema)"
      ],
      "execution_count": 0,
      "outputs": []
    },
    {
      "cell_type": "code",
      "metadata": {
        "id": "McUZoEnHOJyF",
        "colab_type": "code",
        "colab": {}
      },
      "source": [
        "rtf_df = spark.read.json('renttherunway_final_data.json?dl=0')"
      ],
      "execution_count": 0,
      "outputs": []
    },
    {
      "cell_type": "code",
      "metadata": {
        "id": "7RyjTRElXkgu",
        "colab_type": "code",
        "outputId": "3f221b78-12c5-4ec6-c2c0-f685a88fc3df",
        "colab": {
          "base_uri": "https://localhost:8080/",
          "height": 479
        }
      },
      "source": [
        "rtf_df.show()"
      ],
      "execution_count": 0,
      "outputs": [
        {
          "output_type": "stream",
          "text": [
            "+---+-----------------+---------+--------+-----+------+-------+------+-------------+------------------+--------------------+--------------------+----+-------+------+\n",
            "|age|        body type|bust size|category|  fit|height|item_id|rating|   rented for|       review_date|      review_summary|         review_text|size|user_id|weight|\n",
            "+---+-----------------+---------+--------+-----+------+-------+------+-------------+------------------+--------------------+--------------------+----+-------+------+\n",
            "| 28|        hourglass|      34d|  romper|  fit| 5' 8\"|2260466|    10|     vacation|    April 20, 2016|So many compliments!|An adorable rompe...|  14| 420272|137lbs|\n",
            "| 36|straight & narrow|      34b|    gown|  fit| 5' 6\"| 153475|    10|        other|     June 18, 2013|I felt so glamour...|I rented this dre...|  12| 273551|132lbs|\n",
            "|116|             null|     null|  sheath|  fit| 5' 4\"|1063761|    10|        party| December 14, 2015|It was a great ti...|This hugged in al...|   4| 360448|  null|\n",
            "| 34|             pear|      34c|   dress|  fit| 5' 5\"| 126335|     8|formal affair| February 12, 2014|Dress arrived on ...|I rented this for...|   8| 909926|135lbs|\n",
            "| 27|         athletic|      34b|    gown|  fit| 5' 9\"| 616682|    10|      wedding|September 26, 2016|Was in love with ...|I have always bee...|  12| 151944|145lbs|\n",
            "| 45|         athletic|      32b|   dress|  fit| 5' 8\"| 364092|     8|         date|    April 30, 2016|Traditional with ...|Didn't actually w...|   8| 734848|138lbs|\n",
            "| 27|        hourglass|      34c|   dress|  fit| 5' 3\"| 568429|    10|     everyday|  December 7, 2017|LITERALLY THE CUT...|This dress is so ...|   4| 336066|112lbs|\n",
            "| 65|        full bust|     34d+|   dress|  fit| 5' 3\"| 130259|    10|formal affair|   January 1, 2013|Great dress, beau...|Fit was great. Ma...|   8|  86661|118lbs|\n",
            "| 27|        full bust|      36d|    gown|  fit| 5' 6\"|1729232|    10|formal affair|     June 27, 2016|Great for black t...|I was nervous of ...|  21| 166228|  null|\n",
            "| 33|           petite|      32b|    gown|  fit| 5' 3\"|1729232|    10|formal affair|  October 17, 2016|This dress was ev...|The dress was ver...|   1| 154309|114lbs|\n",
            "| 33|         athletic|      34b|   dress|small| 5' 3\"|1077123|     8|        party|   January 2, 2018|It was fun to wea...|The dress arrived...|  12| 185966|135lbs|\n",
            "| 30|             pear|      34b|   dress|large| 5' 6\"| 130259|     8|      wedding|   January 7, 2013|Stunning dress, p...|This dress was ab...|   8| 533900|135lbs|\n",
            "| 26|straight & narrow|      36a|  sheath|  fit| 5' 6\"|1295171|    10|        party|     July 28, 2016|This dress made m...|The S was snug bu...|   8|  87660|120lbs|\n",
            "| 29|            apple|      36d|   dress|large| 5' 2\"| 143094|     8|        party|   October 4, 2014|Ordered this as a...|I ordered this dr...|  20| 391778|142lbs|\n",
            "| 32|         athletic|      34b|    gown|  fit| 5' 5\"| 123793|    10|formal affair|      May 29, 2014|Stunning gown. Wo...|Fit great, super ...|   2| 721308|118lbs|\n",
            "| 30|        hourglass|      34c|leggings|  fit| 5' 7\"|2595752|    10|        party|      May 16, 2016|These leggings ar...|Medium would have...|  20| 829124|140lbs|\n",
            "| 35|             pear|      34c|   dress|  fit| 5' 8\"| 909221|    10|     vacation|    March 28, 2017|Really cute and c...|This dress is jus...|  20| 499943|170lbs|\n",
            "| 26|         athletic|      34d|   dress|  fit| 5' 5\"|1622747|    10|        party| November 13, 2017|               LOVED|Little tight, but...|  12| 339899|143lbs|\n",
            "| 28|           petite|      34b|   dress|  fit| 5' 3\"| 172027|     8|      wedding|      July 3, 2017| Semi-formal wedding|This is a pretty ...|   8| 649288|115lbs|\n",
            "| 33|           petite|      34c|    gown|small| 5' 6\"|1229740|    10|formal affair| November 16, 2017|         gala ready |super cute, 8 was...|  21|  16800|135lbs|\n",
            "+---+-----------------+---------+--------+-----+------+-------+------+-------------+------------------+--------------------+--------------------+----+-------+------+\n",
            "only showing top 20 rows\n",
            "\n"
          ],
          "name": "stdout"
        }
      ]
    },
    {
      "cell_type": "code",
      "metadata": {
        "id": "00tpaVUIbHbw",
        "colab_type": "code",
        "colab": {}
      },
      "source": [
        "from pyspark.sql.types import IntegerType\n",
        "rtf_df = rtf_df.withColumn(\"rating\", rtf_df[\"rating\"].cast(IntegerType()))"
      ],
      "execution_count": 0,
      "outputs": []
    },
    {
      "cell_type": "code",
      "metadata": {
        "id": "ELofSa49Xb4p",
        "colab_type": "code",
        "outputId": "c755baaf-ad11-4f8f-99c9-436d49c8c591",
        "colab": {
          "base_uri": "https://localhost:8080/",
          "height": 306
        }
      },
      "source": [
        "rtf_df.printSchema()"
      ],
      "execution_count": 0,
      "outputs": [
        {
          "output_type": "stream",
          "text": [
            "root\n",
            " |-- age: string (nullable = true)\n",
            " |-- body type: string (nullable = true)\n",
            " |-- bust size: string (nullable = true)\n",
            " |-- category: string (nullable = true)\n",
            " |-- fit: string (nullable = true)\n",
            " |-- height: string (nullable = true)\n",
            " |-- item_id: string (nullable = true)\n",
            " |-- rating: integer (nullable = true)\n",
            " |-- rented for: string (nullable = true)\n",
            " |-- review_date: string (nullable = true)\n",
            " |-- review_summary: string (nullable = true)\n",
            " |-- review_text: string (nullable = true)\n",
            " |-- size: long (nullable = true)\n",
            " |-- user_id: string (nullable = true)\n",
            " |-- weight: string (nullable = true)\n",
            "\n"
          ],
          "name": "stdout"
        }
      ]
    },
    {
      "cell_type": "code",
      "metadata": {
        "id": "Shunl8pNa9kD",
        "colab_type": "code",
        "colab": {}
      },
      "source": [
        ""
      ],
      "execution_count": 0,
      "outputs": []
    },
    {
      "cell_type": "code",
      "metadata": {
        "id": "kR8LU8UZOhgG",
        "colab_type": "code",
        "colab": {}
      },
      "source": [
        "reduced_rtf = rtf_df.select('item_id', 'rating', 'fit', 'review_text')"
      ],
      "execution_count": 0,
      "outputs": []
    },
    {
      "cell_type": "code",
      "metadata": {
        "id": "N4i6SMvbK8OI",
        "colab_type": "code",
        "outputId": "8a191d50-b15a-430c-8b5d-6fa01c0bda4b",
        "colab": {
          "base_uri": "https://localhost:8080/",
          "height": 459
        }
      },
      "source": [
        "reduced_rtf.show()"
      ],
      "execution_count": 0,
      "outputs": [
        {
          "output_type": "stream",
          "text": [
            "+-------+------+-----+--------------------+\n",
            "|item_id|rating|  fit|         review_text|\n",
            "+-------+------+-----+--------------------+\n",
            "|2260466|    10|  fit|An adorable rompe...|\n",
            "| 153475|    10|  fit|I rented this dre...|\n",
            "|1063761|    10|  fit|This hugged in al...|\n",
            "| 126335|     8|  fit|I rented this for...|\n",
            "| 616682|    10|  fit|I have always bee...|\n",
            "| 364092|     8|  fit|Didn't actually w...|\n",
            "| 568429|    10|  fit|This dress is so ...|\n",
            "| 130259|    10|  fit|Fit was great. Ma...|\n",
            "|1729232|    10|  fit|I was nervous of ...|\n",
            "|1729232|    10|  fit|The dress was ver...|\n",
            "|1077123|     8|small|The dress arrived...|\n",
            "| 130259|     8|large|This dress was ab...|\n",
            "|1295171|    10|  fit|The S was snug bu...|\n",
            "| 143094|     8|large|I ordered this dr...|\n",
            "| 123793|    10|  fit|Fit great, super ...|\n",
            "|2595752|    10|  fit|Medium would have...|\n",
            "| 909221|    10|  fit|This dress is jus...|\n",
            "|1622747|    10|  fit|Little tight, but...|\n",
            "| 172027|     8|  fit|This is a pretty ...|\n",
            "|1229740|    10|small|super cute, 8 was...|\n",
            "+-------+------+-----+--------------------+\n",
            "only showing top 20 rows\n",
            "\n"
          ],
          "name": "stdout"
        }
      ]
    },
    {
      "cell_type": "code",
      "metadata": {
        "id": "XZ-k7zrRdBYW",
        "colab_type": "code",
        "colab": {}
      },
      "source": [
        "reduced_rtf = reduced_rtf.na.drop()"
      ],
      "execution_count": 0,
      "outputs": []
    },
    {
      "cell_type": "code",
      "metadata": {
        "id": "sBwm96AXXGoY",
        "colab_type": "code",
        "outputId": "c1950c1b-a10a-4243-c5a8-4aaa4057b310",
        "colab": {
          "base_uri": "https://localhost:8080/",
          "height": 119
        }
      },
      "source": [
        "reduced_rtf.printSchema()"
      ],
      "execution_count": 0,
      "outputs": [
        {
          "output_type": "stream",
          "text": [
            "root\n",
            " |-- item_id: string (nullable = true)\n",
            " |-- rating: integer (nullable = true)\n",
            " |-- fit: string (nullable = true)\n",
            " |-- review_text: string (nullable = true)\n",
            "\n"
          ],
          "name": "stdout"
        }
      ]
    },
    {
      "cell_type": "code",
      "metadata": {
        "id": "42m92EgKLm4N",
        "colab_type": "code",
        "colab": {}
      },
      "source": [
        ""
      ],
      "execution_count": 0,
      "outputs": []
    },
    {
      "cell_type": "code",
      "metadata": {
        "id": "QdGP5SgwLm1u",
        "colab_type": "code",
        "colab": {}
      },
      "source": [
        "from pyspark.ml.feature import Tokenizer, StopWordsRemover, NGram, CountVectorizer, IDF, StringIndexer\n",
        "from pyspark.ml.feature import VectorAssembler\n",
        "from pyspark.ml.linalg import Vector\n",
        "from pyspark.ml.classification import NaiveBayes\n",
        "from pyspark.ml import Pipeline\n",
        "\n",
        "tokenizer = Tokenizer(inputCol = 'review_text', outputCol = 'token_text')\n",
        "stopremove = StopWordsRemover(inputCol = 'token_text', outputCol = 'stop_tokens')\n",
        "count_vec = CountVectorizer(inputCol = 'stop_tokens', outputCol = 'c_vec')\n",
        "idf = IDF(inputCol = 'c_vec', outputCol = 'tf_idf')\n",
        "fitting = StringIndexer(inputCol = 'fit', outputCol = 'label')\n",
        "\n",
        "\n",
        "clean_up = VectorAssembler(inputCols = ['tf_idf', 'rating'], outputCol = 'features')\n",
        "\n",
        "nb = NaiveBayes()\n",
        "\n",
        "data_prep_pipe = Pipeline(stages = [fitting, tokenizer, stopremove, count_vec, idf, clean_up])\n",
        "\n",
        "cleaner = data_prep_pipe.fit(reduced_rtf)\n",
        "\n",
        "clean_data = cleaner.transform(reduced_rtf)\n",
        "clean_data = clean_data.select(['label', 'features'])\n",
        "\n",
        "(training, testing) = clean_data.randomSplit([0.8, 0.2])\n",
        "fit_predictor = nb.fit(training)\n",
        "test_results = fit_predictor.transform(testing)\n",
        "test_results.show()"
      ],
      "execution_count": 0,
      "outputs": []
    },
    {
      "cell_type": "code",
      "metadata": {
        "id": "DdRqS1HqS8Zy",
        "colab_type": "code",
        "colab": {}
      },
      "source": [
        "from pyspark.ml.feature import VectorAssembler\n",
        "from pyspark.ml.linalg import Vector\n",
        "\n",
        "clean_up = VectorAssembler(inputCols = ['tf_idf', 'rating'], outputCol = 'features')"
      ],
      "execution_count": 0,
      "outputs": []
    },
    {
      "cell_type": "code",
      "metadata": {
        "id": "jsNsQdDWLmzU",
        "colab_type": "code",
        "colab": {}
      },
      "source": [
        "from pyspark.ml.classification import NaiveBayes\n",
        "nb = NaiveBayes()"
      ],
      "execution_count": 0,
      "outputs": []
    },
    {
      "cell_type": "code",
      "metadata": {
        "id": "w_gto-rOLmw9",
        "colab_type": "code",
        "colab": {}
      },
      "source": [
        "from pyspark.ml import Pipeline"
      ],
      "execution_count": 0,
      "outputs": []
    },
    {
      "cell_type": "code",
      "metadata": {
        "id": "y1GEQvbqLmus",
        "colab_type": "code",
        "colab": {}
      },
      "source": [
        "data_prep_pipe = Pipeline(stages = [fitting, tokenizer, stopremove, count_vec, idf, clean_up])"
      ],
      "execution_count": 0,
      "outputs": []
    },
    {
      "cell_type": "code",
      "metadata": {
        "id": "HoveP8DkLmrl",
        "colab_type": "code",
        "colab": {}
      },
      "source": [
        "cleaner = data_prep_pipe.fit(reduced_rtf)"
      ],
      "execution_count": 0,
      "outputs": []
    },
    {
      "cell_type": "code",
      "metadata": {
        "id": "ucicKelaRSwn",
        "colab_type": "code",
        "colab": {}
      },
      "source": [
        "clean_data = cleaner.transform(reduced_rtf)"
      ],
      "execution_count": 0,
      "outputs": []
    },
    {
      "cell_type": "code",
      "metadata": {
        "id": "mjGpr5U6RStw",
        "colab_type": "code",
        "colab": {}
      },
      "source": [
        "clean_data = clean_data.select(['label', 'features'])"
      ],
      "execution_count": 0,
      "outputs": []
    },
    {
      "cell_type": "code",
      "metadata": {
        "id": "rXNKF78-RSrE",
        "colab_type": "code",
        "outputId": "4684a1d0-e8f1-4a70-f782-984b77ef5122",
        "colab": {
          "base_uri": "https://localhost:8080/",
          "height": 459
        }
      },
      "source": [
        "clean_data.show()"
      ],
      "execution_count": 0,
      "outputs": [
        {
          "output_type": "stream",
          "text": [
            "+-----+--------------------+\n",
            "|label|            features|\n",
            "+-----+--------------------+\n",
            "|  0.0|(107013,[6,12,86,...|\n",
            "|  0.0|(107013,[1,13,16,...|\n",
            "|  0.0|(107013,[1,7,9,17...|\n",
            "|  0.0|(107013,[0,1,6,10...|\n",
            "|  0.0|(107013,[0,3,25,2...|\n",
            "|  0.0|(107013,[2,5,6,8,...|\n",
            "|  0.0|(107013,[1,2,8,14...|\n",
            "|  0.0|(107013,[2,6,37,1...|\n",
            "|  0.0|(107013,[4,5,9,17...|\n",
            "|  0.0|(107013,[1,2,7,9,...|\n",
            "|  1.0|(107013,[1,6,34,3...|\n",
            "|  2.0|(107013,[0,1,2,4,...|\n",
            "|  0.0|(107013,[1,4,7,10...|\n",
            "|  2.0|(107013,[0,1,2,3,...|\n",
            "|  0.0|(107013,[2,51,64,...|\n",
            "|  0.0|(107013,[0,2,31,4...|\n",
            "|  0.0|(107013,[0,1,2,3,...|\n",
            "|  0.0|(107013,[6,8,371,...|\n",
            "|  0.0|(107013,[0,1,9,14...|\n",
            "|  1.0|(107013,[4,24,27,...|\n",
            "+-----+--------------------+\n",
            "only showing top 20 rows\n",
            "\n"
          ],
          "name": "stdout"
        }
      ]
    },
    {
      "cell_type": "code",
      "metadata": {
        "id": "idJES3a_RSoL",
        "colab_type": "code",
        "colab": {}
      },
      "source": [
        "(training, testing) = clean_data.randomSplit([0.8, 0.2])"
      ],
      "execution_count": 0,
      "outputs": []
    },
    {
      "cell_type": "code",
      "metadata": {
        "id": "Cu2j_dMVLmkr",
        "colab_type": "code",
        "colab": {}
      },
      "source": [
        "fit_predictor = nb.fit(training)"
      ],
      "execution_count": 0,
      "outputs": []
    },
    {
      "cell_type": "code",
      "metadata": {
        "id": "kA5RaHssSfjD",
        "colab_type": "code",
        "colab": {}
      },
      "source": [
        "test_results = fit_predictor.transform(testing)"
      ],
      "execution_count": 0,
      "outputs": []
    },
    {
      "cell_type": "code",
      "metadata": {
        "id": "7cNLrdF6Sfgj",
        "colab_type": "code",
        "outputId": "700571dd-7e16-4639-b56a-7504635af53d",
        "colab": {
          "base_uri": "https://localhost:8080/",
          "height": 459
        }
      },
      "source": [
        "test_results.show()"
      ],
      "execution_count": 0,
      "outputs": [
        {
          "output_type": "stream",
          "text": [
            "+-----+--------------------+--------------------+--------------------+----------+\n",
            "|label|            features|       rawPrediction|         probability|prediction|\n",
            "+-----+--------------------+--------------------+--------------------+----------+\n",
            "|  0.0|(107013,[0,1,2,3,...|[-4210.1948825103...|[2.07011284677129...|       1.0|\n",
            "|  0.0|(107013,[0,1,2,3,...|[-3004.6612366149...|[0.42612663852947...|       1.0|\n",
            "|  0.0|(107013,[0,1,2,3,...|[-3203.7236270279...|[1.0,7.1125810876...|       0.0|\n",
            "|  0.0|(107013,[0,1,2,3,...|[-2314.8327388251...|[1.96536040484580...|       2.0|\n",
            "|  0.0|(107013,[0,1,2,3,...|[-1458.7802218494...|[0.05671706275691...|       1.0|\n",
            "|  0.0|(107013,[0,1,2,3,...|[-4745.5781881733...|[1.36727904145003...|       2.0|\n",
            "|  0.0|(107013,[0,1,2,3,...|[-4446.9327243278...|[0.00108476900342...|       1.0|\n",
            "|  0.0|(107013,[0,1,2,3,...|[-3583.7059927837...|[0.05956898171349...|       1.0|\n",
            "|  0.0|(107013,[0,1,2,3,...|[-6087.9267073282...|[1.0,7.3184471040...|       0.0|\n",
            "|  0.0|(107013,[0,1,2,3,...|[-1465.2141909514...|[0.99178983710788...|       0.0|\n",
            "|  0.0|(107013,[0,1,2,3,...|[-2592.7496378523...|[0.99999807441492...|       0.0|\n",
            "|  0.0|(107013,[0,1,2,3,...|[-1713.9047599549...|[6.36535660787685...|       1.0|\n",
            "|  0.0|(107013,[0,1,2,3,...|[-2612.3930840804...|[6.84794990056387...|       2.0|\n",
            "|  0.0|(107013,[0,1,2,3,...|[-1803.3229045179...|[0.99999991451658...|       0.0|\n",
            "|  0.0|(107013,[0,1,2,3,...|[-1048.7762927945...|[1.41766953614844...|       2.0|\n",
            "|  0.0|(107013,[0,1,2,3,...|[-2469.4718800336...|[0.99999999999996...|       0.0|\n",
            "|  0.0|(107013,[0,1,2,3,...|[-5233.3105022071...|[0.00604081270022...|       1.0|\n",
            "|  0.0|(107013,[0,1,2,3,...|[-4131.1857950066...|[8.35894885847986...|       1.0|\n",
            "|  0.0|(107013,[0,1,2,3,...|[-3114.0678477844...|[0.99999846561018...|       0.0|\n",
            "|  0.0|(107013,[0,1,2,3,...|[-1115.2084327021...|[5.25732109795948...|       2.0|\n",
            "+-----+--------------------+--------------------+--------------------+----------+\n",
            "only showing top 20 rows\n",
            "\n"
          ],
          "name": "stdout"
        }
      ]
    },
    {
      "cell_type": "code",
      "metadata": {
        "id": "a0wPRY-YSfeh",
        "colab_type": "code",
        "colab": {}
      },
      "source": [
        "from pyspark.ml.evaluation import MulticlassClassificationEvaluator"
      ],
      "execution_count": 0,
      "outputs": []
    },
    {
      "cell_type": "code",
      "metadata": {
        "id": "Z2algcwMSfcI",
        "colab_type": "code",
        "colab": {}
      },
      "source": [
        "acc_eval = MulticlassClassificationEvaluator()\n",
        "acc = acc_eval.evaluate(test_results)"
      ],
      "execution_count": 0,
      "outputs": []
    },
    {
      "cell_type": "code",
      "metadata": {
        "id": "vcfRBe98SfZ1",
        "colab_type": "code",
        "outputId": "3dabd9ed-af69-4169-d7cc-434c3898dad4",
        "colab": {
          "base_uri": "https://localhost:8080/",
          "height": 34
        }
      },
      "source": [
        "print('Accuracy of model at predicting size is: {}'.format(acc))"
      ],
      "execution_count": 0,
      "outputs": [
        {
          "output_type": "stream",
          "text": [
            "Accuracy of model at predicting size is: 0.6527347168242131\n"
          ],
          "name": "stdout"
        }
      ]
    },
    {
      "cell_type": "code",
      "metadata": {
        "id": "idPkDD_MSfXp",
        "colab_type": "code",
        "colab": {}
      },
      "source": [
        ""
      ],
      "execution_count": 0,
      "outputs": []
    },
    {
      "cell_type": "code",
      "metadata": {
        "id": "6oAofO5kSfU7",
        "colab_type": "code",
        "colab": {}
      },
      "source": [
        ""
      ],
      "execution_count": 0,
      "outputs": []
    },
    {
      "cell_type": "code",
      "metadata": {
        "id": "M-P89NrIPFhw",
        "colab_type": "code",
        "colab": {}
      },
      "source": [
        "# # Tokenizer\n",
        "# from pyspark.ml.feature import Tokenizer\n",
        "\n",
        "# # the tokenizer object\n",
        "# tokenizer = Tokenizer().setInputCol('review_text').setOutputCol('words')"
      ],
      "execution_count": 0,
      "outputs": []
    },
    {
      "cell_type": "code",
      "metadata": {
        "id": "t32ALRuZP2Xr",
        "colab_type": "code",
        "colab": {}
      },
      "source": [
        "# tokenizer.transform(rtf_df).select('item_id', 'rating', 'fit', 'review_text', 'words').show()"
      ],
      "execution_count": 0,
      "outputs": []
    },
    {
      "cell_type": "code",
      "metadata": {
        "id": "uInxEQaoWatS",
        "colab_type": "code",
        "colab": {}
      },
      "source": [
        "count_vectorizer_estimator = CountVectorizer().setInputCol('words').setOutputCol('features')"
      ],
      "execution_count": 0,
      "outputs": []
    },
    {
      "cell_type": "code",
      "metadata": {
        "id": "8laMmaq3YMXF",
        "colab_type": "code",
        "colab": {}
      },
      "source": [
        "count_vectorizer_transformer = count_vectorizer_estimator.fit(tokenizer.transform(rtf_df))"
      ],
      "execution_count": 0,
      "outputs": []
    },
    {
      "cell_type": "code",
      "metadata": {
        "id": "5EEv1H_eQsqu",
        "colab_type": "code",
        "colab": {}
      },
      "source": [
        "# count_vectorizer_transformer.transform(tokenizer.transform(rtf_df)).select('item_id', 'rating', 'fit', 'review_text', 'words', 'features').show(truncate=False)"
      ],
      "execution_count": 0,
      "outputs": []
    },
    {
      "cell_type": "code",
      "metadata": {
        "id": "tiC2ILhVWEPo",
        "colab_type": "code",
        "colab": {}
      },
      "source": [
        "# count_vectorizer_transformer.vocabulary"
      ],
      "execution_count": 0,
      "outputs": []
    },
    {
      "cell_type": "code",
      "metadata": {
        "id": "WYIFkfzcY0Xr",
        "colab_type": "code",
        "colab": {}
      },
      "source": [
        "# from pyspark.ml import Pipeline"
      ],
      "execution_count": 0,
      "outputs": []
    },
    {
      "cell_type": "code",
      "metadata": {
        "id": "koSgXsoCY1BC",
        "colab_type": "code",
        "colab": {}
      },
      "source": [
        "pipeline_cv_estimator = Pipeline(stages=[tokenizer, count_vectorizer_estimator])"
      ],
      "execution_count": 0,
      "outputs": []
    },
    {
      "cell_type": "code",
      "metadata": {
        "id": "eSS1hXv9Y42S",
        "colab_type": "code",
        "colab": {}
      },
      "source": [
        "pipeline_cv_transformer = pipeline_cv_estimator.fit(rtf_df)"
      ],
      "execution_count": 0,
      "outputs": []
    },
    {
      "cell_type": "code",
      "metadata": {
        "id": "Id8yVH4cZBL5",
        "colab_type": "code",
        "colab": {}
      },
      "source": [
        "# pipeline_cv_transformer.transform(rtf_df).select('item_id', 'rating', 'fit', 'review_text', 'words', 'features').show()"
      ],
      "execution_count": 0,
      "outputs": []
    },
    {
      "cell_type": "code",
      "metadata": {
        "id": "1HHss_kqZNUK",
        "colab_type": "code",
        "colab": {}
      },
      "source": [
        ""
      ],
      "execution_count": 0,
      "outputs": []
    }
  ]
}